{
 "cells": [
  {
   "cell_type": "markdown",
   "metadata": {},
   "source": [
    "#  Web and Social Information Extraction - A.Y. 2017/2018 \n",
    "\n",
    "# MULTI-DOMAIN SOCIAL RECOMMENDER SYSTEM\n",
    "\n",
    "## Author: Kadir Mert Ozcan - Matricola: 1780512\n",
    "\n",
    "\n",
    "\n",
    "#### Important: All the files need to exist in the same directory as this ipynb file."
   ]
  },
  {
   "cell_type": "code",
   "execution_count": 73,
   "metadata": {},
   "outputs": [],
   "source": [
    "import numpy as np\n",
    "import sklearn"
   ]
  },
  {
   "cell_type": "code",
   "execution_count": 74,
   "metadata": {},
   "outputs": [],
   "source": [
    "import time\n",
    "#start_time = time.time()"
   ]
  },
  {
   "cell_type": "markdown",
   "metadata": {},
   "source": [
    "# Part 1 - Reading the Data and Categorizing the Interests"
   ]
  },
  {
   "cell_type": "code",
   "execution_count": 75,
   "metadata": {},
   "outputs": [],
   "source": [
    "#Ignore the categories that include these in their names\n",
    "ignore = {\"living_people\", \"deaths\", \"births\"}"
   ]
  },
  {
   "cell_type": "markdown",
   "metadata": {},
   "source": [
    "First, the IDs and names of the interests are read from the info files below"
   ]
  },
  {
   "cell_type": "code",
   "execution_count": 76,
   "metadata": {},
   "outputs": [],
   "source": [
    "#Dictionary to store <interestId, interestName> pairs\n",
    "interestDict = {}\n",
    "with open('friend-based_interest_info.tsv') as tsvfile:\n",
    "  reader = csv.reader(tsvfile, delimiter=\"\\t\", quotechar='\"')\n",
    "  for row in reader:\n",
    "    interestID = row[0]\n",
    "    interestName = row[1][8:]\n",
    "    interestDict[interestID] = interestName\n",
    "with open('message-based_interest_info.tsv', encoding=\"utf8\") as tsvfile:\n",
    "  reader = csv.reader(tsvfile, delimiter=\"\\t\", quotechar='\"')\n",
    "  for row in reader:\n",
    "    interestID = row[0]\n",
    "    interestName = row[1][8:]\n",
    "    interestDict[interestID] = interestName"
   ]
  },
  {
   "cell_type": "markdown",
   "metadata": {},
   "source": [
    "After that, another dictionary is created that is the inversed version of interestDict\n",
    "\n",
    "This will make it easier to access interests when fetching the categories (and will cost only a small amount of memory)"
   ]
  },
  {
   "cell_type": "code",
   "execution_count": 77,
   "metadata": {},
   "outputs": [],
   "source": [
    "#Dictionary to store <interestName, interestId> pairs\n",
    "inversedInterestDict = {}\n",
    "for interest in interestDict:\n",
    "    interestName = interestDict[interest]\n",
    "    if interestName in inversedInterestDict:\n",
    "        inversedInterestDict[interestName].add(interest)\n",
    "    else:\n",
    "        inversedInterestDict[interestName] = set()\n",
    "        inversedInterestDict[interestName].add(interest)"
   ]
  },
  {
   "cell_type": "markdown",
   "metadata": {},
   "source": [
    "Then the file called 'article_categories_en.nt' is read to get the categories, \n",
    "#### downloaded from http://downloads.dbpedia.org/3.9/en/article_categories_en.nt.bz2"
   ]
  },
  {
   "cell_type": "code",
   "execution_count": null,
   "metadata": {},
   "outputs": [],
   "source": [
    "#Dictionary to store <interestName, categorySet> pairs\n",
    "interestCategoryDict = {}\n",
    "with open('article_categories_en.nt') as ntfile:\n",
    "  reader = csv.reader(ntfile, delimiter=\" \", quotechar='\"')\n",
    "  for row in reader:\n",
    "    interestResult = re.search('<http://dbpedia.org/resource/(.*)>', row[0])\n",
    "    categoryResult = re.search('<http://dbpedia.org/resource/Category:(.*)>', row[2])\n",
    "    if interestResult != None and categoryResult != None:\n",
    "        interest = interestResult.group(1)\n",
    "        category = categoryResult.group(1)\n",
    "        if any(x in category.lower() for x in ignore):\n",
    "            continue\n",
    "        else:\n",
    "            if interest in inversedInterestDict:\n",
    "                if interest in interestCategoryDict:\n",
    "                    interestCategoryDict[interest].add(category)\n",
    "                else:\n",
    "                    interestCategoryDict[interest] = set()\n",
    "                    interestCategoryDict[interest].add(category)"
   ]
  },
  {
   "cell_type": "markdown",
   "metadata": {},
   "source": [
    "Every user and their interests are read from the 2 datasets below.\n",
    "\n",
    "InterestIds are held as strings instead of set or list to be more memory efficient."
   ]
  },
  {
   "cell_type": "code",
   "execution_count": null,
   "metadata": {},
   "outputs": [],
   "source": [
    "#Dictionary to store <userId, interestIds> pairs.\n",
    "userInterestDict = {}\n",
    "with open('friend-based_dataset.tsv') as tsvfile:\n",
    "    reader = csv.reader(tsvfile, delimiter=\"\\t\", quotechar='\"')\n",
    "    for row in reader:\n",
    "        if row[0] in userInterestDict:\n",
    "            userInterestDict[row[0]] = userInterestDict[row[0]] + \",\" + row[1]\n",
    "        else:\n",
    "            userInterestDict[row[0]] = row[1]\n",
    "with open('message-based_dataset.tsv') as tsvfile:\n",
    "    reader = csv.reader(tsvfile, delimiter=\"\\t\", quotechar='\"')\n",
    "    for row in reader:\n",
    "        if row[0] in userInterestDict:\n",
    "            userInterestDict[row[0]] = userInterestDict[row[0]] + \",\" + row[2]\n",
    "        else:\n",
    "            userInterestDict[row[0]] = row[2]"
   ]
  },
  {
   "cell_type": "markdown",
   "metadata": {},
   "source": [
    "Top 4 most frequent categories are gathered for each user."
   ]
  },
  {
   "cell_type": "code",
   "execution_count": null,
   "metadata": {},
   "outputs": [],
   "source": [
    "#List to store top categories for each user. Every entry is top n categories for a user.\n",
    "categories = []\n",
    "#Number of categories to get for each user\n",
    "numberOfCats = 3\n",
    "for user, interests in userInterestDict.items():\n",
    "    #Dictionary to store category frequencies of all interest for a user\n",
    "    localCategoryFreqDict = {}\n",
    "    interestArr = interests.split(',')\n",
    "    for interest in interestArr:\n",
    "        if interestDict[interest] in interestCategoryDict:\n",
    "            for category in interestCategoryDict[interestDict[interest]]:\n",
    "                if category in localCategoryFreqDict:\n",
    "                    localCategoryFreqDict[category] = localCategoryFreqDict[category] + 1\n",
    "                else:\n",
    "                    localCategoryFreqDict[category] = 1\n",
    "    categories.append(\" \".join(sorted(localCategoryFreqDict, key=localCategoryFreqDict.get, reverse=True)[:numberOfCats]))\n",
    "#print(\"--- %s seconds ---\" % (time.time() - start_time))"
   ]
  },
  {
   "cell_type": "markdown",
   "metadata": {},
   "source": [
    "# Part 2 - Clustering the Users"
   ]
  },
  {
   "cell_type": "markdown",
   "metadata": {},
   "source": [
    "This custom tokenizer is used so that every category in the list \"category\" is treated as a token."
   ]
  },
  {
   "cell_type": "code",
   "execution_count": 35,
   "metadata": {},
   "outputs": [],
   "source": [
    "def my_tokenizer(s):\n",
    "    return s.split(' ')"
   ]
  },
  {
   "cell_type": "markdown",
   "metadata": {},
   "source": [
    "Categories are vectorized using TfidfVectorizer."
   ]
  },
  {
   "cell_type": "code",
   "execution_count": 36,
   "metadata": {},
   "outputs": [],
   "source": [
    "from sklearn.feature_extraction.text import TfidfVectorizer\n",
    "from sklearn.cluster import KMeans\n",
    "from sklearn.metrics import adjusted_rand_score\n",
    "vectorizer = TfidfVectorizer(tokenizer = my_tokenizer)\n",
    "#X is a sparse term-document matrix of user-category pairs\n",
    "X = vectorizer.fit_transform(categories)"
   ]
  },
  {
   "cell_type": "markdown",
   "metadata": {},
   "source": [
    "Dimentionality is reduced using TruncatedSVD to prevent overlapping clusters"
   ]
  },
  {
   "cell_type": "code",
   "execution_count": 44,
   "metadata": {},
   "outputs": [],
   "source": [
    "from sklearn.decomposition import TruncatedSVD\n",
    "from sklearn.random_projection import sparse_random_matrix\n",
    "svd = TruncatedSVD(n_components=8, n_iter=10, random_state=42)\n",
    "reducedX = svd.fit_transform(X)  "
   ]
  },
  {
   "cell_type": "markdown",
   "metadata": {},
   "source": [
    "Reduced matrix is fitted to k-means clusterin algorithm."
   ]
  },
  {
   "cell_type": "code",
   "execution_count": 56,
   "metadata": {},
   "outputs": [
    {
     "data": {
      "text/plain": [
       "KMeans(algorithm='auto', copy_x=True, init='k-means++', max_iter=300,\n",
       "    n_clusters=30, n_init=10, n_jobs=1, precompute_distances='auto',\n",
       "    random_state=None, tol=0.0001, verbose=0)"
      ]
     },
     "execution_count": 56,
     "metadata": {},
     "output_type": "execute_result"
    }
   ],
   "source": [
    "kmeans = KMeans(n_clusters=30, init='k-means++',n_init=10, verbose=0)\n",
    "kmeans.fit(reducedX)"
   ]
  },
  {
   "cell_type": "markdown",
   "metadata": {},
   "source": [
    "# Part 3 - Evaluating the Clusters"
   ]
  },
  {
   "cell_type": "markdown",
   "metadata": {},
   "source": [
    "Clusters are evaluated with silhouette score."
   ]
  },
  {
   "cell_type": "code",
   "execution_count": 57,
   "metadata": {},
   "outputs": [
    {
     "data": {
      "text/plain": [
       "0.79683111782414362"
      ]
     },
     "execution_count": 57,
     "metadata": {},
     "output_type": "execute_result"
    }
   ],
   "source": [
    "from sklearn import metrics\n",
    "metrics.silhouette_score(reducedX, kmeans.labels_, metric='euclidean', sample_size = 1000)"
   ]
  },
  {
   "cell_type": "markdown",
   "metadata": {},
   "source": [
    "# Part 4 - Clustering Twitter Users"
   ]
  },
  {
   "cell_type": "markdown",
   "metadata": {},
   "source": [
    "Special keys and tokens are required to fetch data using twitter api"
   ]
  },
  {
   "cell_type": "code",
   "execution_count": 15,
   "metadata": {},
   "outputs": [],
   "source": [
    "from twitter import *\n",
    "\n",
    "CONSUMER_KEY = '9HqYMGHtCok5QINP6n4YokR9U'\n",
    "CONSUMER_SECRET = 'jfOG4iLpX8pKgZ4ZGbjdPzCxZjlI6VNUfY1RKxrYSgPoDHzRzF'\n",
    "ACCESS_TOKEN = '973238402580664325-WiXwkPnQ5YzGrwTv0nr9omsjspfxyhT'\n",
    "ACCESS_TOKEN_SECRET = '4z4q0zoJ7Pfqv03IiQeGRQDmX2BM5o1FsbkeXipCyaLKA'\n",
    "\n",
    "twitter = Twitter(auth = OAuth(ACCESS_TOKEN,\n",
    "                  ACCESS_TOKEN_SECRET,\n",
    "                  CONSUMER_KEY,\n",
    "                  CONSUMER_SECRET))"
   ]
  },
  {
   "cell_type": "markdown",
   "metadata": {},
   "source": [
    "UserId's are read from S21.tsv and requested from twitter. Due to the rate limit, the loop is staggered using time.sleep(60)\n",
    "\n",
    "\n",
    "## NOTE: Twitter gives Time Limit error after 15 fetches per 15 minutes. With 1500 users, it takes 1500 minutes (almost 24 hours) to fetch for all the users. For this reason, the last clustering wasn't done for complete list of users. This is why there is an error for interrupting below the code block. However, if one has time to wait for all friendship data to be fetched, all users can be clustered."
   ]
  },
  {
   "cell_type": "code",
   "execution_count": 16,
   "metadata": {},
   "outputs": [
    {
     "name": "stdout",
     "output_type": "stream",
     "text": [
      "Twitter sent status 404 for URL: 1.1/friends/ids.json using parameters: (oauth_consumer_key=9HqYMGHtCok5QINP6n4YokR9U&oauth_nonce=849017805189761574&oauth_signature_method=HMAC-SHA1&oauth_timestamp=1532794708&oauth_token=973238402580664325-WiXwkPnQ5YzGrwTv0nr9omsjspfxyhT&oauth_version=1.0&user_id=1035276847&oauth_signature=Tw9j855ci6ljmpwoi8P4f%2Fa6bGE%3D)\n",
      "details: {'errors': [{'code': 34, 'message': 'Sorry, that page does not exist.'}]}\n",
      "Twitter sent status 401 for URL: 1.1/friends/ids.json using parameters: (oauth_consumer_key=9HqYMGHtCok5QINP6n4YokR9U&oauth_nonce=10680308026869856934&oauth_signature_method=HMAC-SHA1&oauth_timestamp=1532794952&oauth_token=973238402580664325-WiXwkPnQ5YzGrwTv0nr9omsjspfxyhT&oauth_version=1.0&user_id=1056443120&oauth_signature=xdKZLNk%2Ft2rpq20xjwfH2T695%2Bc%3D)\n",
      "details: {'request': '/1.1/friends/ids.json', 'error': 'Not authorized.'}\n"
     ]
    },
    {
     "ename": "KeyboardInterrupt",
     "evalue": "",
     "output_type": "error",
     "traceback": [
      "\u001b[1;31m---------------------------------------------------------------------------\u001b[0m",
      "\u001b[1;31mKeyboardInterrupt\u001b[0m                         Traceback (most recent call last)",
      "\u001b[1;32m<ipython-input-16-3c92307f9928>\u001b[0m in \u001b[0;36m<module>\u001b[1;34m()\u001b[0m\n\u001b[0;32m     12\u001b[0m         \u001b[1;32mdel\u001b[0m \u001b[0mtwitterUserList\u001b[0m\u001b[1;33m[\u001b[0m\u001b[0mrow\u001b[0m\u001b[1;33m[\u001b[0m\u001b[1;36m0\u001b[0m\u001b[1;33m]\u001b[0m\u001b[1;33m]\u001b[0m\u001b[1;33m\u001b[0m\u001b[0m\n\u001b[0;32m     13\u001b[0m         \u001b[0mprint\u001b[0m\u001b[1;33m(\u001b[0m\u001b[0me\u001b[0m\u001b[1;33m)\u001b[0m\u001b[1;33m\u001b[0m\u001b[0m\n\u001b[1;32m---> 14\u001b[1;33m     \u001b[0mtime\u001b[0m\u001b[1;33m.\u001b[0m\u001b[0msleep\u001b[0m\u001b[1;33m(\u001b[0m\u001b[1;36m60\u001b[0m\u001b[1;33m)\u001b[0m\u001b[1;33m\u001b[0m\u001b[0m\n\u001b[0m\u001b[0;32m     15\u001b[0m \u001b[1;31m#print(\"--- %s seconds ---\" % (time.time() - start_time))\u001b[0m\u001b[1;33m\u001b[0m\u001b[1;33m\u001b[0m\u001b[0m\n",
      "\u001b[1;31mKeyboardInterrupt\u001b[0m: "
     ]
    }
   ],
   "source": [
    "#start_time = time.time()\n",
    "#Dictionary to store <userId, friends> pair\n",
    "twitterUserList = {}\n",
    "with open('S21.tsv') as tsvfile:\n",
    "  reader = csv.reader(tsvfile, quotechar='\"')\n",
    "  for row in reader:\n",
    "    twitterUserList[row[0]] = \"\"\n",
    "    try:\n",
    "        friends = twitter.friends.ids(user_id=row[0])['ids']\n",
    "        twitterUserList[row[0]] = ' '.join(str(x) for x in friends)\n",
    "    except Exception as e:\n",
    "        del twitterUserList[row[0]]\n",
    "        print(e)\n",
    "    time.sleep(60)\n",
    "#print(\"--- %s seconds ---\" % (time.time() - start_time))"
   ]
  },
  {
   "cell_type": "code",
   "execution_count": 17,
   "metadata": {},
   "outputs": [],
   "source": [
    "#check again if any of the values are empty, possibly caused by an error upon fetching the friend lists\n",
    "for key, value in twitterUserList.items():\n",
    "    if value == '':\n",
    "        del twitterUserList[key]"
   ]
  },
  {
   "cell_type": "markdown",
   "metadata": {},
   "source": [
    "List of friends are converted to a matrix of token counts using CountVectorizer.\n",
    "\n",
    "Similarity matrix is by created using cosine similarities."
   ]
  },
  {
   "cell_type": "code",
   "execution_count": 60,
   "metadata": {},
   "outputs": [],
   "source": [
    "from sklearn.feature_extraction.text import CountVectorizer\n",
    "from sklearn.cluster import KMeans\n",
    "from scipy.spatial.distance import pdist, squareform\n",
    "\n",
    "vectorizer = CountVectorizer()\n",
    "X = vectorizer.fit_transform(list(twitterUserList.values()))\n",
    "#Similarity Matrix\n",
    "cs_users = squareform(pdist(X.toarray(), 'cosine'))"
   ]
  },
  {
   "cell_type": "markdown",
   "metadata": {},
   "source": [
    "Clusters are created via same method used for Part 2"
   ]
  },
  {
   "cell_type": "code",
   "execution_count": 61,
   "metadata": {},
   "outputs": [
    {
     "data": {
      "text/plain": [
       "KMeans(algorithm='auto', copy_x=True, init='k-means++', max_iter=300,\n",
       "    n_clusters=5, n_init=1000, n_jobs=1, precompute_distances='auto',\n",
       "    random_state=None, tol=0.0001, verbose=0)"
      ]
     },
     "execution_count": 61,
     "metadata": {},
     "output_type": "execute_result"
    }
   ],
   "source": [
    "from sklearn.decomposition import TruncatedSVD\n",
    "from sklearn.random_projection import sparse_random_matrix\n",
    "svd = TruncatedSVD(n_components=5, n_iter=7, random_state=42)\n",
    "reducedX = svd.fit_transform(cs_users)  \n",
    "kmeans = KMeans(n_clusters=5, init='k-means++',n_init=1000, verbose=0)\n",
    "kmeans.fit(reducedX)"
   ]
  },
  {
   "cell_type": "markdown",
   "metadata": {},
   "source": [
    "Alternatively, we can get better results using SimRank.\n",
    "\n",
    "However, the algorithm takes to long to execute, and the user of dense matrix may cause memory error."
   ]
  },
  {
   "cell_type": "code",
   "execution_count": null,
   "metadata": {},
   "outputs": [],
   "source": [
    "vectorizer = CountVectorizer()\n",
    "X = vectorizer.fit_transform(list(twitterUserList.values()))\n",
    "graph = X.todense()\n",
    "friends  = vectorizer.get_feature_names()\n",
    "users = list(twitterUserList.keys())"
   ]
  },
  {
   "cell_type": "markdown",
   "metadata": {},
   "source": [
    "Implemented by modifying https://github.com/littleq0903/simrank"
   ]
  },
  {
   "cell_type": "code",
   "execution_count": null,
   "metadata": {},
   "outputs": [],
   "source": [
    "user_sim = matrix(np.identity(len(users)))\n",
    "friend_sim = matrix(np.identity(len(friends)))\n",
    "\n",
    "def get_friends_num(user):\n",
    "    q_i = users.index(user)\n",
    "    return graph[q_i]\n",
    "\n",
    "def get_friends(user):\n",
    "    series = get_friends_num(user).tolist()[0]\n",
    "    return [ friends[x] for x in range(len(series)) if series[x] > 0 ]\n",
    "\n",
    "def user_simrank(q1, q2, C):\n",
    "    if q1 == q2 : return 1\n",
    "    prefix = C / (get_friends_num(q1).sum() * get_friends_num(q2).sum())\n",
    "    postfix = 0\n",
    "    for friend_i in get_friends(q1):\n",
    "        for friend_j in get_friends(q2):\n",
    "            i = friends.index(friend_i)\n",
    "            j = friends.index(friend_j)\n",
    "            postfix += friend_sim[i, j]\n",
    "            \n",
    "    return prefix * postfix\n",
    "\n",
    "\n",
    "def simrank(C=0.8):\n",
    "    global user_sim, friend_sim\n",
    "\n",
    "    # users simrank\n",
    "    new_user_sim = matrix(np.identity(len(users)))\n",
    "    for qi in users:\n",
    "        for qj in users:\n",
    "            i = users.index(qi)\n",
    "            j = users.index(qj)\n",
    "            new_user_sim[i,j] = user_simrank(qi, qj, C)\n",
    "    user_sim = new_user_sim\n",
    "    return user_sim"
   ]
  },
  {
   "cell_type": "code",
   "execution_count": null,
   "metadata": {},
   "outputs": [],
   "source": [
    "X = simrank()\n",
    "from sklearn.decomposition import TruncatedSVD\n",
    "from sklearn.random_projection import sparse_random_matrix\n",
    "svd = TruncatedSVD(n_components=5, n_iter=7, random_state=42)\n",
    "reducedX = svd.fit_transform(X)  \n",
    "kmeans = KMeans(n_clusters=5, init='k-means++',n_init=1000, verbose=0)\n",
    "kmeans.fit(reducedX)"
   ]
  },
  {
   "cell_type": "markdown",
   "metadata": {},
   "source": [
    "# PART 5 - Recommending Interests"
   ]
  },
  {
   "cell_type": "markdown",
   "metadata": {},
   "source": [
    "Existing <User, InterestSet> pairs, and <User, InterestSet> pairs to be recommended are read from the files below."
   ]
  },
  {
   "cell_type": "code",
   "execution_count": 25,
   "metadata": {},
   "outputs": [],
   "source": [
    "#Dictionary to store existing <User,Interests> pairs.\n",
    "userInterestDict2 = {}\n",
    "#Dictionary to store 6 Interests to be recommended to each user.\n",
    "recommendDict = {}\n",
    "#Dictionary to store <Interest, Categories> pairs. This will be filled in the next block.\n",
    "interestCategoryDict2 = {}\n",
    "with open('S22_preferences.tsv') as tsvfile:\n",
    "    reader = csv.reader(tsvfile, delimiter=\"\\t\", quotechar='\"')\n",
    "    for row in reader:\n",
    "        user = row[0]\n",
    "        interest = row[1][8:]\n",
    "        if row[0] in userInterestDict2:\n",
    "            userInterestDict2[user].append(interest)\n",
    "        else:\n",
    "            userInterestDict2[user] = []\n",
    "            userInterestDict2[user].append(category)\n",
    "        if row[1][8:] not in interestCategoryDict2:\n",
    "            interestCategoryDict2[category] = set()\n",
    "with open('S23.tsv', encoding=\"utf8\") as tsvfile:\n",
    "    reader = csv.reader(tsvfile, delimiter=\"\\t\", quotechar='\"')\n",
    "    for row in reader:\n",
    "        user = row[0]\n",
    "        interest = row[1][8:]\n",
    "        if row[0] in recommendDict:\n",
    "            recommendDict[user].append(interest)\n",
    "        else:\n",
    "            recommendDict[user] = []\n",
    "            recommendDict[user].append(interest)\n",
    "        if row[1][8:] not in interestCategoryDict2:\n",
    "            interestCategoryDict2[row[1][8:]] = set()"
   ]
  },
  {
   "cell_type": "markdown",
   "metadata": {},
   "source": [
    "Read 'article_categories_en.nt' to get the categories, same as the first step. Data are stored in interestCategoryDict2"
   ]
  },
  {
   "cell_type": "code",
   "execution_count": 26,
   "metadata": {},
   "outputs": [],
   "source": [
    "with open('article_categories_en.nt') as ntfile:\n",
    "  reader = csv.reader(ntfile, delimiter=\" \", quotechar='\"')\n",
    "  for row in reader:\n",
    "    interestResult = re.search('<http://dbpedia.org/resource/(.*)>', row[0])\n",
    "    categoryResult = re.search('<http://dbpedia.org/resource/Category:(.*)>', row[2])\n",
    "    if interestResult != None and categoryResult != None:\n",
    "        interest = interestResult.group(1)\n",
    "        category = categoryResult.group(1)\n",
    "        if any(x in category.lower() for x in ignore):\n",
    "            continue\n",
    "        else:\n",
    "            if interest in interestCategoryDict2 or interest in recommendDict:\n",
    "                interestCategoryDict2[interest].add(category)"
   ]
  },
  {
   "cell_type": "code",
   "execution_count": 27,
   "metadata": {},
   "outputs": [],
   "source": [
    "#Dictionary to store <User, <Category, Frequency>> pairs.\n",
    "userCategoryFrequency = {}\n",
    "for user, interestList in userInterestDict2.items():\n",
    "    #category frequencies for each user, will be added to userCategoryFrequency as a value\n",
    "    categoryFrequencies = {}\n",
    "    for interest in interestList:\n",
    "        if interest in interestCategoryDict2:\n",
    "            categories = interestCategoryDict2[interest]\n",
    "            for category in categories:\n",
    "                if category in categoryFrequencies:\n",
    "                    categoryFrequencies[category] = categoryFrequencies[category] + 1\n",
    "                else:\n",
    "                    categoryFrequencies[category] = 1\n",
    "    userCategoryFrequency[user] = categoryFrequencies"
   ]
  },
  {
   "cell_type": "code",
   "execution_count": 28,
   "metadata": {},
   "outputs": [],
   "source": [
    "#Dictionary that holds <UserId, Interest> pairs for top 3 recommendations\n",
    "top3Recommendations = {}\n",
    "for user, interestList in recommendDict.items():\n",
    "    #Dictionary that holds an Interest-Frequency pair. Frequency is the total frequency of categories for that interest\n",
    "    localCategoryFrequencyDict = {}\n",
    "    for interest in interestList:\n",
    "        frequency = 0\n",
    "        for category in interestCategoryDict2[interest]:\n",
    "            if category in userCategoryFrequency[user]:\n",
    "                frequency = frequency + userCategoryFrequency[user][category]\n",
    "        localCategoryFrequencyDict[interest] = frequency\n",
    "    #get top 3 interest with most common categories\n",
    "    topInterests = list(dict(sorted(localCategoryFrequencyDict.items(), key=lambda x: x[1], reverse=True)[:3]).keys())\n",
    "    top3Recommendations[user] = topInterests"
   ]
  },
  {
   "cell_type": "code",
   "execution_count": 29,
   "metadata": {},
   "outputs": [
    {
     "data": {
      "text/plain": [
       "{'100004041': ['Sean_Ringgold', 'Rafinha_Bastos', 'Oscar_Filho'],\n",
       " '100008460': ['Fall_Out_Boy', 'Shannon_Leto', 'Laura_Berg'],\n",
       " '100031697': ['Darren_Criss', 'Ian_Somerhalder', 'Rahul_Raj'],\n",
       " '1000465040': ['One_Direction', 'Niall_Horan', 'Liam'],\n",
       " '1000466221': ['Zendaya', 'Logan_Lerman', 'Brighton_Festival'],\n",
       " '1000497458': ['Fantasy_author', 'Andy_Straka', 'Allu_Arjun'],\n",
       " '1000818570': ['Nathan_Ballard', 'Campbell_Brown', 'Hugh_Laurie'],\n",
       " '1000874750': ['David_Faitelson', 'Andy_Vernon', 'Premier_League'],\n",
       " '100101137': ['Allison_Melnick', 'Russell_Peters', 'Jason_Strauss'],\n",
       " '100123499': ['Ed_Morrissey', 'InStyle', 'Dalai_Lama'],\n",
       " '100126414': ['Lil_Duval', 'Jackie_Kashian', 'Philip_DeFranco'],\n",
       " '100127782': ['Ariana_Grande', 'Mike_Posner', 'Justin_Bieber'],\n",
       " '1001865625': ['National_Basketball_Association', 'Keith_Jenkins', 'ESPN'],\n",
       " '1002338478': ['Jenni_Rivera', 'Judith_Hill', 'Paulina_Goto'],\n",
       " '1002370621': ['Lady_Gaga', 'Juanes', 'Paulina_Rubio'],\n",
       " '1002479173': ['John_Gruber', 'Real_Racing', 'Dan_Cederholm'],\n",
       " '1002734161': ['Real_Madrid_C.F.', 'Turner_Contemporary', 'Vanilla_sugar'],\n",
       " '100303502': ['Glenn_Howerton',\n",
       "  'Andrew_Goldstein_(musician)',\n",
       "  'Sex&Drugs&Rock&Roll'],\n",
       " '1003094628': ['Justin_Bieber', 'Louis_Tomlinson', 'El_Intermedio'],\n",
       " '100311153': ['Ernie_Halter', 'Rothenberg_Ventures', 'New_Straits_Times'],\n",
       " '1003160634': ['Daryl_Sabara', 'Crystalyne', 'Stretch_Armstrong'],\n",
       " '100329389': ['Michelle_Rodriguez', 'Juanes', 'Julieta_Venegas'],\n",
       " '100336426': ['50_Cent', 'Ashton_Kutcher', 'Invictus_Gaming'],\n",
       " '100341806': ['Seychelle_Gabriel', 'Orianthi', 'Louise_Burfitt-Dons'],\n",
       " '100348420': ['Missy_Franklin', 'Cin�polis', 'Pedro_Ferriz_de_Con'],\n",
       " '100353062': ['El_Mercurio', 'Ultra_Music_Festival', 'CNN_Chile'],\n",
       " '100367661': ['Erkan_Can', 'Janelle_Arthur', 'Levent_Kazak'],\n",
       " '100382381': ['Ilwad_Elman', 'Consuelo_Duval', 'Trey_Songz'],\n",
       " '1003950506': ['Helsingin_Sanomat', 'Jeff_Norton', 'Alexander_Stubb'],\n",
       " '1004113171': ['Krayzie_Bone', 'Layzie_Bone', 'The_Weeknd'],\n",
       " '10043572': ['Chris_Cillizza', 'United_Airlines', 'Matt_Maiocco'],\n",
       " '1004487295': ['Nicky_Romero', 'Idris_Elba', 'Dwayne_Johnson'],\n",
       " '1004682006': ['Jaxson_de_Ville', 'Fox_Sports_South', 'Jaque'],\n",
       " '1004743650': ['One_Direction', 'Louis_Tomlinson', 'Karina_Carvalho'],\n",
       " '1004986386': ['Kevin_Durant', 'Colin_Cowherd', 'Breanna_Stewart'],\n",
       " '100499327': ['Yen_Press', 'Nigel_Robertson', 'Scott_Forstall'],\n",
       " '100503113': ['Munster_Rugby', 'Toledo_Mud_Hens', 'Mendes'],\n",
       " '100536197': ['Jordan_Henderson', 'David_Faitelson', 'Elijah_Burke'],\n",
       " '100539960': ['Emma_Watson', 'Lexi', 'You_Me_Her'],\n",
       " '100552039': ['Rainn_Wilson', \"Conan_O'Brien\", 'John_C._Dvorak'],\n",
       " '1005782072': ['Jesmyn_Ward', 'Aegean_Airlines', \"Writer's_Digest\"],\n",
       " '1005794179': ['Britney_Spears', 'YouTube', 'Adam_Lambert'],\n",
       " '100581547': ['Jared_Leto', 'Pablo', 'Geoff_Lloyd'],\n",
       " '1005890864': ['Nando_Reis', 'Aleks_Syntek', 'Earthjustice'],\n",
       " '100602922': ['Selena_Gomez', 'China_Internet_Information_Center', 'Jowell'],\n",
       " '100605023': ['James_Carville', 'Katie_Ledecky', 'Atul_Butte'],\n",
       " '100610581': ['B9', 'Patrick_van_Aanholt', 'Larry_Walker'],\n",
       " '100618369': ['Lea_Michele', 'Leela_James', 'Sam_Champion'],\n",
       " '1006380030': ['WINN', 'Shawn_Ryan', 'Nic'],\n",
       " '100643423': ['Zebra_Katz', 'Pablo_Sciuto', 'Manel'],\n",
       " '1006489586': ['Katya_Zamolodchikova', 'Rux', 'Alyson_Court'],\n",
       " '100649594': ['Kevin', 'Bryan_Cranston', 'Aaron_Paul'],\n",
       " '1006497258': ['LeBron_James', 'Big_Cat_Rescue', 'Jen_Selter'],\n",
       " '1006745869': ['Charlie_Sheen', 'Shane_Filan', 'Sunrise_Avenue'],\n",
       " '1006972200': ['Taylor_Swift', 'Kelly_Clarkson', 'Matthew_Keys'],\n",
       " '1007067950': ['Misha_Collins', 'Jim_Beaver', 'Jaclyn_Victor'],\n",
       " '100710793': ['DE_magazine_Deutschland', 'Anna_M.', 'Mashable'],\n",
       " '100746762': ['David_Lynch', 'Grand_Theft_Auto_V', 'Guinness_Storehouse'],\n",
       " '1007586636': ['Lady_Gaga', 'Britney_Spears', 'Megalyn_Echikunwoke'],\n",
       " '1007809453': ['Miley_Cyrus', 'Ariana_Grande', 'Lynyrd_Skynyrd'],\n",
       " '100782381': ['Rah_Digga', 'Penguin_Random_House', 'Goodreads'],\n",
       " '1008035437': ['Michael_Cudlitz', 'Christianity_Today', 'KENZ'],\n",
       " '1008247771': ['Justin_Bieber', 'Demi_Lovato', 'MC_Hammer'],\n",
       " '100825335': ['Lady_Gaga', 'Hamilton_Morris', 'Best_Western'],\n",
       " '100853343': ['TwitPic', 'Shorty_Awards', 'Mick_Foley'],\n",
       " '100861785': ['Barack_Obama', 'Switchfoot', 'Pingdom'],\n",
       " '100888938': ['Esteban_Arce', 'J_Brand', 'Courtney_Upshaw'],\n",
       " '1009020169': ['Boris_Becker', 'Angelique_Kerber', 'Hannover_96'],\n",
       " '1009327393': ['Betty', 'Kevin_Spacey', 'Barack_Obama'],\n",
       " '100956659': ['T3', 'Pink_(singer)', 'Director-general'],\n",
       " '1009630860': ['Fantasy_author', 'Wendy_Higgins', 'Rocco_Siffredi'],\n",
       " '1010171508': ['Scott_Krinsky', 'Louis_Tomlinson', 'Rutledge_Wood'],\n",
       " '1010330760': ['Selena_Gomez', 'Taylor_Swift', 'Nina_Dobrev'],\n",
       " '101036488': ['Lindsay_Lohan', 'Lauren_Conrad', 'Perez_Hilton'],\n",
       " '101067510': ['Canal_13_(Chile)', 'Michelle_McManus', 'Chilevisi�n'],\n",
       " '101075232': ['Oscar_Isaac', 'Matthew_Bailey', 'Dalai_Lama'],\n",
       " '101077773': ['Chuck_Klosterman', 'Bill_Simmons', 'GMA_Records'],\n",
       " '101099207': ['Dianna_Agron', 'Demi_Lovato', 'Yasmin'],\n",
       " '10113082': ['Biz_Stone', 'Hackney_Empire', 'EllisLab'],\n",
       " '101137918': ['Michael_Franti', 'Google', 'Oscar_the_Grouch'],\n",
       " '101140731': ['The_Last_Shadow_Puppets',\n",
       "  'Anton_Newcombe',\n",
       "  'Noticias_Caracol'],\n",
       " '101153119': ['YouTube', 'Phil_Plait', 'Jaime_Bayly'],\n",
       " '101169594': ['Scooter_Braun', 'Francisca_Valenzuela', 'Mike_Rich'],\n",
       " '1011863071': ['Misfits_Records', 'Sara_Crowe', 'Cody_Deal'],\n",
       " '1012011308': ['DiAnn_Mills', 'Mumford_&_Sons', 'Santiago_Segura'],\n",
       " '101201281': ['Britney_Spears', 'Jamie_Lynn_Spears', 'Zapeando'],\n",
       " '101210203': ['Google', 'Amr_Diab', 'Vodafone_Egypt'],\n",
       " '1012241618': ['KaDee_Strickland', \"Michael_O'Hare\", 'Brad_Feld'],\n",
       " '1012258477': ['Lady_Gaga', 'Coldplay', 'Mamas_&_Papas'],\n",
       " '101243114': ['Duilio_Davino', 'Premier_League', 'Stewart_Alsop'],\n",
       " '101244568': ['Juanes', 'Suicide_prevention', 'Alejandro'],\n",
       " '1012511618': ['Justin_Bieber', 'Marcelo_Tinelli', 'Rihanna'],\n",
       " '1013165376': ['Jamie_Grace', 'Ross_Robinson', 'LeBron_James'],\n",
       " '101345146': ['Peter_DeLuise', 'Mike_Reiss', 'Katie_Cook'],\n",
       " '101348175': ['Shakira', 'Casey_Abrams', 'Mundo_Deportivo'],\n",
       " '1013618389': ['Justin_Bieber', 'Henry_Blodget', 'Fairway_Solitaire'],\n",
       " '101390694': ['Ashton_Kutcher', 'Mono/Poly', 'Real_Madrid_C.F.'],\n",
       " '101402200': ['Denene_Millner', \"Conan_O'Brien\", 'OMGPop'],\n",
       " '101408415': ['Alejandro_Jodorowsky', 'NetBeans', 'The_Ad_Club'],\n",
       " '101435183': ['Miley_Cyrus', 'Bill_de_Blasio', 'Carlos_Loret_de_Mola'],\n",
       " '101455578': ['1LIVE', 'GoPro', 'Chelsie_Hightower'],\n",
       " '101532373': ['Michael_Franti', 'Julie_Gonzalo', 'LCD_Soundsystem'],\n",
       " '1015529426': ['Giorgio_Chiellini', 'Alessandro_Del_Piero', 'SoundHound'],\n",
       " '101564059': ['Adela_Micha', 'Paola_Rojas', 'Mats_Zuccarello'],\n",
       " '101570656': ['Ellen_DeGeneres', 'Tammara_Webber', 'Linda_Ramone'],\n",
       " '1015789555': ['Esporte_Interativo', 'Netflix', 'Khalid_Abdalla'],\n",
       " '101606404': ['Inca_Kola', 'Sheryl_WuDunn', 'Rihanna'],\n",
       " '1016125681': ['Megadeth', '9GAG', 'YouTube'],\n",
       " '1016147888': [\"Harper's_Bazaar\", 'Damien_Rice', 'Philipp'],\n",
       " '101678096': ['MTV_Australia', 'Laurence_Golborne', 'Ricardo_Lagos_Weber'],\n",
       " '101684764': ['Jennifer_Lopez', 'Heather_Headley', 'Maxene_Magalona'],\n",
       " '101687807': ['Phil_Liggett', 'Gaby', 'Anders_Lindegaard'],\n",
       " '101692360': ['Lady_Gaga', 'Shakira', 'Polo_Polo'],\n",
       " '101721345': ['Lady_Gaga', '50_Cent', 'Lenny_Kravitz'],\n",
       " '1017330493': ['Coldplay', 'Kyan_Khojandi', 'Mycroft_Holmes'],\n",
       " '1017561212': ['Dani_Mateo', 'Elijah_Wood', 'Tammy_Townsend'],\n",
       " '1017668882': ['Ed_Sheeran', 'Taylor_Momsen', 'Griffin_Gluck'],\n",
       " '1017794486': ['BBC_Mundo', 'Dawnn_Lewis', 'Tele13'],\n",
       " '101801111': ['Scott_Adkins', 'Tavis_Smiley', 'George_Salazar'],\n",
       " '101801943': ['Shakira', 'Cassandra_Clare', 'Ed_Kashi'],\n",
       " '1018042374': ['Arctic_Monkeys',\n",
       "  'Until_We_Get_Caught',\n",
       "  'Even_If_It_Kills_Me'],\n",
       " '1018314182': ['Britney_Spears', 'Rihanna', 'Justin_Bieber'],\n",
       " '1018338006': ['Jamel_Debbouze', 'Alexandre_Lacazette', 'Blaise_Matuidi'],\n",
       " '101865955': ['Stig_Abell', 'Stephen_Silver', 'Kasper_Schmeichel'],\n",
       " '101866367': ['Stephen_Fry', 'Gordon_Ramsay', 'STV_News'],\n",
       " '1018670268': ['Ellen_DeGeneres', 'Barack_Obama', 'Michelle_Obama'],\n",
       " '1018765028': ['Fernando', 'The_New_Yorker', 'Augusten_Burroughs'],\n",
       " '101878450': ['Katy_Perry', 'Justin_Timberlake', 'Kat_Von_D'],\n",
       " '101881961': ['Eric_Dean_Seaton', 'Commerce_minister', 'All_Time_Low'],\n",
       " '101894464': ['Demi_Lovato', 'Selena_Gomez', 'Justin_Bieber'],\n",
       " '1019070283': ['Calvin_Harris', 'Resident_Evil', 'AJ+'],\n",
       " '101910254': ['Unreal_Engine', 'Aleksandr_Gorin', 'Royal_Republic'],\n",
       " '101923507': ['Thom_Yorke', 'Chad_Johnson', 'Tom_Warren'],\n",
       " '101934224': ['Enrique_Iglesias', 'Javier_Alatorre', 'Carlos_Baute'],\n",
       " '101935414': ['Kyle_Lohse', 'Gilles_Peterson', 'Kevin_Davies'],\n",
       " '101938507': ['Ted_Danson', 'MoveOn.org', 'VerticalResponse'],\n",
       " '101948722': ['Jake_Wood', 'Chris_Cornell', 'Tarja_Turunen'],\n",
       " '101972486': ['Chilango', 'Cin�polis', 'Mar�a_Jos�_(singer)'],\n",
       " '1019910242': ['Warren_Buffett', 'Phillip_Buchanon', 'Don_Nichols'],\n",
       " '1020119850': ['David_Guetta', 'Santiago_Segura', 'Barbara_Mikulski'],\n",
       " '102035654': ['Lauren_Conrad', 'Gerard_Joling', 'Colorado_Review'],\n",
       " '10203812': ['Barack_Obama', 'Victor_Rasuk', 'Carlos_Mena'],\n",
       " '1020415165': ['Kendrick_Lamar', 'Mark_Kirk', 'Alireza'],\n",
       " '1020434226': ['Demi_Lovato', 'Bruno_Mars', 'Twitter'],\n",
       " '1020553891': ['Alicia_Keys', 'Nicki_Minaj', 'Wiz_Khalifa'],\n",
       " '1020650042': ['The_Killers', 'Human_Rights_Campaign', 'Cleveland_Clinic'],\n",
       " '102091751': ['Demetri_Martin', 'Dylan_Evans', 'Trevor_Immelman'],\n",
       " '102091856': ['Ben_Hoffman', 'La_Repubblica', 'Pyrena'],\n",
       " '102104895': ['Forsman_&_Bodenfors', 'Kaddi', 'Miyavi'],\n",
       " '102116728': ['Joe_Piscopo', 'Esteban_Arce', 'Mitch_Kapor'],\n",
       " '102126264': ['Julia_Gillard', 'Microsoft_Studios', 'Utah_Jazz'],\n",
       " '1021270255': ['Mira_Lesmana', 'Acha_Septriasa', 'DetikCom'],\n",
       " '102131599': ['India_Eisley', 'Chilango', 'Marcelo_Claure'],\n",
       " '102144889': ['T-Pain', 'Travis_Barker', 'Tim_Masthay'],\n",
       " '102155500': ['Javier_Alatorre', 'Justin_Abdelkader', 'Raven_Software'],\n",
       " '1021610683': ['Valentino_Rossi', 'Monty_Python', 'Fabio_Volo'],\n",
       " '102166227': ['Rachel_Caine', 'Rachel_Vincent', 'Esther_Armah'],\n",
       " '1021691316': ['Jimmy_Fallon', 'Republic_Records', 'Larry_Fong'],\n",
       " '1021985196': ['Dani_Rovira', 'Santiago_Segura', 'Scotiabank'],\n",
       " '102212820': ['Landon_Donovan', 'Carmen_Aristegui', 'S._J._Tucker'],\n",
       " '102214545': ['Britney_Spears', 'Lady_Gaga', 'Katy_Perry'],\n",
       " '1022204426': ['Shay_Mitchell', 'Ashley_Benson', 'Lady_Gaga'],\n",
       " '102228227': ['Nature_Chemistry', 'The_Pharcyde', 'Okayplayer'],\n",
       " '102238504': ['Adela_Micha', 'Esteban_Arce', 'Ken_Harris'],\n",
       " '1022448679': ['Instagram', 'Justin_Bieber', 'SoundCloud'],\n",
       " '1022457601': ['Katy_Perry', 'Miley_Cyrus', 'Britney_Spears'],\n",
       " '1022546299': ['CBS_News', 'Roger_McGuinn', 'Team_Secret'],\n",
       " '1022621294': ['The_Wall_Street_Journal',\n",
       "  'Kimberly_Guilfoyle',\n",
       "  'Megyn_Kelly'],\n",
       " '1022867144': ['Rafael_Bittencourt', 'Aquiles_Priester', 'Kiko_Loureiro'],\n",
       " '1023010538': ['Hailee_Steinfeld', 'Ray_Wise', 'Carla'],\n",
       " '10235502': ['C-SPAN', 'Bookish', 'Chabad.org'],\n",
       " '102380221': ['Soleil_Moon_Frye', 'Snoop_Dogg', 'Cory_Booker'],\n",
       " '1024239650': ['Deepak_Chopra', 'Lost_Gardens_of_Heligan', 'The_Beatles'],\n",
       " '102449580': ['Nicky_Romero', 'Mike_Krieger', 'Emirates_24/7'],\n",
       " '102463822': ['Neil_Patrick_Harris', 'Eliza_Dushku', 'Clarice_Lispector'],\n",
       " '1024729050': ['NTV_Spor', 'Ahmet_Kural', '9GAG'],\n",
       " '102481859': ['Ellen_DeGeneres', 'Shakira', 'TV_Guide'],\n",
       " '102484946': ['Real_Madrid_C.F.', 'Cristiano_Ronaldo', 'ENom'],\n",
       " '1024944397': ['Steven_Gerrard', 'Cheech_&_Chong', 'We_Came_as_Romans'],\n",
       " '1024965140': ['Silvia_Olmedo', 'Heath_Evans', 'Carla_Morrison'],\n",
       " '1024988730': ['Europa-Park', 'Nicki', 'Lina'],\n",
       " '1025117072': ['Matt_Paradis', 'Bill_Nye', 'Neil_deGrasse_Tyson'],\n",
       " '102512579': ['Ellen_DeGeneres', 'Brad_Fitzpatrick', 'Jake_Shears'],\n",
       " '102516970': ['Within_Temptation', 'Apoptygma_Berzerk', 'Simone_Simons'],\n",
       " '102520211': ['Katy_Perry', 'Dash_Berlin', 'NASA'],\n",
       " '1025469163': ['YouTube', 'World_Music_Awards', 'Sundance_Film_Festival'],\n",
       " '1025650062': ['Nico_Tortorella', 'Vinay_Rai', 'Richard_Edelman'],\n",
       " '1025655775': ['Boomer_Esiason', 'The_Chive', 'Jai_Paul'],\n",
       " '1025657472': ['Holly_Marie_Combs', 'Gwen_Stefani', 'Metallica'],\n",
       " '102574866': ['Britney_Spears', 'Lauren_Conrad', 'Velvet_Hammer'],\n",
       " '10258252': ['Rea_Garvey', 'EMusic', 'Maud_Newton'],\n",
       " '102619395': ['RuPaul', 'Myq_Kaplan', 'Oliver_Thornton'],\n",
       " '1026298681': ['Coldplay', 'Fiksimini', 'KCEE'],\n",
       " '1026861175': ['Steven_Lee_Olsen', 'Nath', 'Lucy_Lane'],\n",
       " '102692926': ['Coldplay', 'SoundCloud', 'Hakan_Celik'],\n",
       " '1027337827': ['Ellen_DeGeneres', 'Alf_Rehn', 'Did_You_Know_Gaming?'],\n",
       " '102754039': ['Neil_Gaiman', 'Mike_Mullin', 'WCNC-TV'],\n",
       " '10276932': ['Anderson_Cooper', 'Donnie_Klang', 'Jason_Kottke'],\n",
       " '1027719169': ['One_Direction', 'Barack_Obama', 'Justin_Bieber'],\n",
       " '102782932': ['Top_Shelf_Productions', 'Instagram', 'Ahmet_Kural'],\n",
       " '102790504': ['Bridgit_Mendler', 'Bonnie_McKee', 'Siksakubur'],\n",
       " '102791034': ['The_Beatles', 'Linkin_Park', 'YouTube'],\n",
       " '1028067528': ['Jamie_Foxx', 'Muhammad_Ali', 'Jay_Pharoah'],\n",
       " '102827568': ['Cin�polis', 'Mix_Up', 'Cinemex'],\n",
       " '102833474': ['Rainn_Wilson', 'Christina_Applegate', 'Scott_Simon'],\n",
       " '1028429347': ['Is-a', 'Matheus', 'CP24_Breakfast'],\n",
       " '102845332': ['Oprah_Winfrey', 'Solange_Knowles', 'Rihanna'],\n",
       " '102873385': ['Scientific_American', 'National_Geographic', 'Waitrose'],\n",
       " '102888427': ['Pink_(singer)', 'Jonah_Hill', 'Rickey_Smiley'],\n",
       " '1029020569': ['The_New_York_Times', 'Alessia', 'Warner_Channel'],\n",
       " '1029025598': ['Motionless_in_White', 'Minnesota_State_Fair', 'ComiXology'],\n",
       " '10292942': ['Robert_Llewellyn', 'Michael_Vaughan', 'Boise_Weekly'],\n",
       " '1029493698': ['Christie_Blatchford', 'Melissa_Ponzio', 'William_Hague'],\n",
       " '1029660373': ['Alice_Waters', 'One_Direction', 'The_Weather_Channel'],\n",
       " '102984360': ['Alan_Carr', 'Marcos_Witt', 'Brian_McFadden'],\n",
       " '103002623': ['Demi_Lovato', 'I_Bet_My_Life', 'Dwayne_Johnson'],\n",
       " '1030099532': ['Taylor_Swift', 'Demi_Lovato', 'Pedro_Alfonso'],\n",
       " '1030233325': ['One_Direction', 'Audra_McDonald', 'Louis_Tomlinson'],\n",
       " '103040155': ['Christina_Hendricks', 'Bruce_Burton', 'Volaris'],\n",
       " '1030482722': ['Robi_Domingo', 'Luis_Manzano', 'Christian_Bautista'],\n",
       " '1030526876': ['Taylor_Swift', 'Justin_Timberlake', 'Shakira'],\n",
       " '1030623170': ['Liam', 'Ben_Leber', 'Alok'],\n",
       " '103086335': ['Half_Moon_Run', 'Kylie_Jenner', 'Iliana'],\n",
       " '1030876123': ['Gail_Kasper', 'Armin_van_Buuren', 'Lykke_Li'],\n",
       " '103097074': ['Kourtney_Kardashian', 'Kylie_Jenner', 'Devin_the_Dude'],\n",
       " '103115352': ['Chris_Cornell', 'Buddy_Miller', 'Teleamazonas'],\n",
       " '103117989': ['David_Guetta', 'Bonhams', 'Blended_(film)'],\n",
       " '103130076': ['Frank_Ocean', 'David_Nalbandian', 'Big_Bird'],\n",
       " '103130914': ['Demi_Lovato', 'Julianna_Guill', 'Carla_Morrison'],\n",
       " '1031412776': ['Diana_Gabaldon', \"Writer's_Digest\", 'Tommy_Tee'],\n",
       " '103154966': ['Florida_Aquarium', 'James_Curnow', 'Christopher_Tompkins'],\n",
       " '1031589355': ['Stevie_Richards', 'Twitter', \"Nando's\"],\n",
       " '1031647746': ['Stuart_Goldsmith', 'SportsCenter', 'The_Rugby_Championship'],\n",
       " '103173368': ['Lady_Gaga', 'Barack_Obama', 'Michelle_Obama'],\n",
       " '1031751391': ['Sway_Calloway', 'Yelawolf', 'Milan_Lucic'],\n",
       " '103198494': ['Eriq_La_Salle', 'Buzz_Aldrin', 'Skoll_Foundation'],\n",
       " '1032009678': ['Keyshia_Cole', 'K._Michelle', 'Instagram'],\n",
       " '103205394': ['Federico_Fazio', 'Bakari_Sellers', 'Roger_Corman'],\n",
       " '10321932': ['Matador_Network', 'Primark', 'Super_45'],\n",
       " '103232008': ['Coldplay', 'Sophie', 'Matt_Lauer'],\n",
       " '103232022': ['Paulo_Coelho', 'Kate_Lawler', 'We_Are_the_In_Crowd'],\n",
       " '1032409795': ['Lady_Gaga', 'Bob_Sinclar', 'Martin_Solveig'],\n",
       " '103246786': ['Tokyo_Ghoul', 'Dallas_Mavericks', 'ZDF'],\n",
       " '1032592020': ['Michael_Novogratz', 'Brandon_Bass', 'Marcelo_Adnet'],\n",
       " '1032661988': ['Taylor_Swift', 'Rihanna', 'One_Direction'],\n",
       " '103289920': ['Lady_Gaga', 'Shakira', 'Heather_Spohr'],\n",
       " '1032926671': ['Crown_Royal', 'Justin_Bieber', 'Kingdom_Hearts'],\n",
       " '1033016544': ['Lady_Gaga', 'Taylor_Momsen', 'Avril_Lavigne'],\n",
       " '1033212666': ['Anderson_Cooper', 'Graham_Elwood', 'Greg_Hemphill'],\n",
       " '1033314642': ['Avril_Lavigne', 'Ed_Sheeran', 'Theo_Walcott'],\n",
       " '103337197': ['Demi_Lovato', 'Selena_Gomez', 'Lady_Gaga'],\n",
       " '103342595': ['Demi_Lovato', 'Joe_Jonas', 'Profound_Lore_Records'],\n",
       " '103358027': ['Novak_Djokovic', 'Justin_Chatwin', 'Adidas_Originals'],\n",
       " '1033644528': ['Selena_Gomez', 'Taylor_Swift', 'Vinnie_Politan'],\n",
       " '1033729885': ['Metallica', 'Megadeth', 'Education_policy'],\n",
       " '1034036905': ['E._L._James', 'Michael_Vaughan', 'Fifty_Shades_Freed'],\n",
       " '103405911': ['Vera_Farmiga', 'Marcelo_Adnet', 'Santander_Brasil'],\n",
       " '1034085013': ['Liam_Gallagher', 'Julian_Casablancas', \"Today's_Golfer\"],\n",
       " '1034161': ['Biz_Stone', 'TechCrunch', 'Beatie_Wolfe'],\n",
       " '103427207': ['NBA_on_TNT', 'Daddy_Yankee', 'Residente'],\n",
       " '103430847': ['Adele', 'Ed_Sheeran', 'Kimberly_Thompson'],\n",
       " '1034372562': ['Elzhi', 'Madlib', 'The_Roots'],\n",
       " '103454079': ['FIFA', 'Cinemex', 'La_Liga'],\n",
       " '103461258': ['Mix_Up', 'Lady_Gaga', 'OCESA_Seitrack'],\n",
       " '1034967680': ['Justin_Bieber', 'Jasmine_Tookes', 'Matt_Bennett'],\n",
       " '1035120564': ['Katy_Perry', 'Xian_Lim', 'Angelica_Panganiban'],\n",
       " '1035244034': ['Der_Postillon', 'Bear_Grylls', 'Amy_Guth'],\n",
       " '1035284948': ['Keith_Barker', 'Child_of_God', 'Defeater'],\n",
       " '103561363': ['Jodie_Meeks', 'Neil_deGrasse_Tyson', 'Marques_Brownlee'],\n",
       " '103601160': ['Thom_Yorke', 'Ryuichi_Sakamoto', 'Johnny_Jolly'],\n",
       " '1036032132': ['Jessica_Sanchez', 'Bruno_Mars', 'Inhotim'],\n",
       " '103606815': ['Ruud_van_Nistelrooy', 'Carlos_Vives', 'Juanes'],\n",
       " '1036289552': ['Darren_Criss', 'Andy_Biersack', 'Julie_Estelle'],\n",
       " '1036623025': ['All_Time_Low', 'Dino_Morea', 'Jorge_Rial'],\n",
       " '103683926': ['Jamie_Hyneman', 'European_Policy_Centre', 'Tapatalk'],\n",
       " '1036889304': ['Burberry', 'Versace', 'Giorgio_Armani'],\n",
       " '103695833': ['Will_Ferrell', 'CK-12_Foundation', 'Wargaming.net'],\n",
       " '1036966026': ['Josh_Hutcherson', 'Ed_Sheeran', 'Baltimore_City_Paper'],\n",
       " '103697635': ['David_Faitelson', 'Kevin_McCloud', 'Mundo_Deportivo'],\n",
       " '103710272': ['Lady_Gaga', 'David_Guetta', 'Rihanna'],\n",
       " '1037218188': ['Jessica_Capshaw', 'Amy_Brenneman', 'Stana_Katic'],\n",
       " '103724029': ['Coldplay', 'Simon_Kinberg', 'Twitter'],\n",
       " '103734233': ['Ab-Soul', 'Daniel_Tosh', 'Wilhelm_Gustloff'],\n",
       " '1037439548': ['Demi_Lovato', 'Kris_Jenner', 'Robert_Kardashian'],\n",
       " '1037446747': ['Justin_Bieber', 'Ruggero_Pasquarelli', 'Refinery29'],\n",
       " '103754789': ['Remember_the_Milk', 'TwitPic', 'Kevin_Allison'],\n",
       " '103764862': ['Raditya_dika', 'Marty_Markowitz', 'Fiksimini'],\n",
       " '1037660724': ['Madison_Beer', 'Nedbank', 'Justin_Bieber'],\n",
       " '103774344': ['Christian_Louboutin', 'Kat_Von_D', 'Anna_Drijver'],\n",
       " '1037800752': ['Matthew_Perry', 'Eric_Ries', 'Business_Insider'],\n",
       " '103797817': ['Chris_Smalling', 'Scha_Al-Yahya', 'Lisa_Surihani'],\n",
       " '1038012194': ['GoPro', \"Lucy_O'Brien\", 'Terry_Richardson'],\n",
       " '103803248': ['Pressparty', 'Seamus_Dever', 'Jim_Beaver'],\n",
       " '1038045986': ['Justin_Bieber', 'Miley_Cyrus', 'Europa_FM'],\n",
       " '103804651': [\"Girls'_Generation\", 'PsychAlive', 'The_Public_Theater'],\n",
       " '103828607': ['Barack_Obama', 'Patricia_Bullrich', 'Gabriela_Michetti'],\n",
       " '103866018': ['Andrew_Ripp', 'Alejandro_Fantino', 'Intel'],\n",
       " '103876251': ['Kevin_Woo', 'Eddsworld', 'Maddy'],\n",
       " '103885155': ['Bill_Cosby', 'Chris_Cornell', 'Warren_Sapp'],\n",
       " '103901070': ['Noticieros_Televisa', 'Misha_Omar', 'CNN'],\n",
       " '103907235': ['Emily_Osment', 'Ashley_Tisdale', 'Eric_Bischoff'],\n",
       " '1039128638': ['Meg_Cabot', 'Volcom_Entertainment', 'Luanne_Rice'],\n",
       " '103917375': ['Ludwika_Paleta', 'Nick_Zinner', 'Bill_Gates'],\n",
       " '1039180452': ['Justin_Timberlake', 'Justin_Bieber', 'Justin_Trudeau'],\n",
       " '103988575': ['Hallie_Haglund', 'Ridgid', 'LittleBigPlanet'],\n",
       " '103992679': ['Skrillex', 'Cristiano_Ronaldo', 'Real_Madrid_C.F.'],\n",
       " '1039948508': ['Pride_of_Britain_Awards', 'Danny_Mountain', 'Ryan_Kelley'],\n",
       " '1040058876': ['Jaden_Smith', 'James_Maslow', 'LINC'],\n",
       " '1040173813': ['Mon_Laferte', 'Cristian_Hidalgo', 'Elis_Paprika'],\n",
       " '104022970': ['Marcelo_Adnet', 'Real_Madrid_C.F.', 'Ahmed_Patel'],\n",
       " '104023328': ['Linkin_Park', 'Hot_Hot_Heat', 'Eike_Batista'],\n",
       " '1040253625': ['Dota_2', 'Mojang', 'The_Denver_Post'],\n",
       " '104029464': ['Hardaway', 'Kenley_Jansen', 'Wiz_Khalifa'],\n",
       " '1040331618': ['Valentino_Rossi', 'Justin_Timberlake', 'Alexia_Putellas'],\n",
       " '104045503': ['Bob_Payne', 'One_Direction', 'Joe_Sugg'],\n",
       " '1040612312': ['Shailene_Woodley', 'National_Geographic', 'Mehmet_Oz'],\n",
       " '104063445': ['Carles_Puyol', 'Gustavo_Cerati', 'BBC_Mundo'],\n",
       " '1040719962': ['Alicia_Keys', 'Barack_Obama', 'Steve_Novak'],\n",
       " '104077121': ['Ashton_Kutcher', 'Barack_Obama', 'Daniel_Radosh'],\n",
       " '1040784312': ['Chris', 'Branden_Steineckert', 'Champs_Sports'],\n",
       " '1041111367': ['Mike_Harrington', 'The_New_Yorker', 'Nicholas_Kristof'],\n",
       " '104111703': ['Peaceville_Records', 'Nurul_Izzah_Anwar', 'Anwar_Ibrahim'],\n",
       " '104127252': ['The_Score_Group', 'Isabel', 'Pat_Forde'],\n",
       " '1041275712': ['Jennifer_Nettles', 'Lou_Dobbs', 'Rachael_Ray'],\n",
       " '1041283249': ['Elizabeth_Reaser', 'Kenny_Chesney', 'KassemG'],\n",
       " '104138787': ['Samy_Kamkar', 'Karoline', 'Hacker_News'],\n",
       " '1041461594': ['Simon_&_Schuster', 'Kensington_Books', 'AnimaNaturalis'],\n",
       " '104156615': ['Peter_Facinelli', 'Warren_Sapp', 'The_Herald-Dispatch'],\n",
       " '1041593366': ['Mo_Rocca', 'The_Orange_Peel', '.at'],\n",
       " '104239528': ['Peter_Diamandis', 'Lovato', 'Jonathan_Meeks'],\n",
       " '1042408370': ['Alan_McDermott', 'Terry_Tyler', 'Bob_Atkinson'],\n",
       " '104244091': ['Giada_De_Laurentiis', 'Morning_Ireland', 'Real_Madrid_C.F.'],\n",
       " '1042531747': ['Katy_Perry', 'Adele', 'Tom_Hiddleston'],\n",
       " '104257253': ['Julieta_Venegas', 'XHOF-FM', 'Politico'],\n",
       " '104265805': ['Tribe_Records', 'Chris_Watson', 'Los_Angeles_Sparks'],\n",
       " '104265880': ['Caitlin_Doughty', 'Hasan_Cemal', 'Eduardo'],\n",
       " '1042671271': ['Taylor_Swift', 'Emma_Watson', 'Ed_Sheeran'],\n",
       " '104267462': ['Ab-Soul', 'Kendrick_Lamar', 'Alan_Davie'],\n",
       " '104307126': ['Trivium_(band)', 'Ross_Kemp', 'C.C._Chapman'],\n",
       " '104308467': ['Bobbie_Houston', 'David_Plante', 'A21'],\n",
       " '104315635': ['Diego_Luna', 'Los_Campesinos!', 'Leonardo_de_Lozanne'],\n",
       " '10432162': ['Google', 'Charles_Kelley', 'HostGator'],\n",
       " '104326390': [\"Conan_O'Brien\", 'Hot_Chelle_Rae', 'Andy_Borowitz'],\n",
       " '1043356478': ['Jamie_Carragher', 'Liverpool_F.C.', 'Tony_Fiorentino'],\n",
       " '1043598745': ['Tavon_Wilson', 'Alessandro_Cattelan', 'TgCom24'],\n",
       " '1043840479': ['Versace', 'The_Luminary', 'JaCoby_Jones'],\n",
       " '104385677': ['Siti_Nurhaliza', 'Rihanna', 'Tony_Fernandes'],\n",
       " '1043948564': [\"Conan_O'Brien\", 'Joumana_Haddad', 'Ghost_story'],\n",
       " '104395831': ['Susan_Hendricks',\n",
       "  'Escola_Superior_de_Propaganda_e_Marketing',\n",
       "  'Carlos_Mena'],\n",
       " '1044006126': ['Muslim_Girl', 'Pinterest', 'Karen_Olivo'],\n",
       " '104400737': ['Lady_Gaga', 'Jared_Leto', 'Cecil_Shorts_III'],\n",
       " '1044280435': ['NTV_Spor', 'Zaytung', 'Cumhuriyet'],\n",
       " '104431004': ['The_Beatles', 'Miki_Nadal', 'Berto_Romero'],\n",
       " '104438673': ['Lady_Gaga', 'Nelly_Furtado', 'FEMNET'],\n",
       " '1044471212': ['Taylor_Swift', 'Logan_Lerman', 'Speed_Freaks'],\n",
       " '1044602276': ['Rosario_Flores', 'Pastora_Soler', 'Mario_Casas'],\n",
       " '1044832632': ['Lady_Gaga', 'Rihanna', 'Ed_Sheeran'],\n",
       " '1044955489': ['New_York_&_Company', 'Cricket_Australia', 'Astro_Awani'],\n",
       " '1045140930': ['Kendall_Schmidt', 'Ed_Sheeran', 'Liam'],\n",
       " '104521127': ['Nicki_Minaj', 'Tyler,_The_Creator', 'Solange_Knowles'],\n",
       " '1045221092': ['Cornwall_Council', 'Russell_Hobbs', 'Hook_grip'],\n",
       " '104530917': ['Dailymotion', 'Jesper_R�nndahl', 'Bucky_Badger'],\n",
       " '104534345': ['Enrique_Iglesias', 'Daddy_Yankee', 'Justin_Baldoni'],\n",
       " '104538822': ['Pau_Gasol', 'Betty_Buckley', 'Karen_Gillan'],\n",
       " '1045514712': ['Nando_Reis', 'Andy_Greenwald', 'Return_to_El_Salvador'],\n",
       " '104554025': ['Michael_Cudlitz', '3VOOR12', 'C2C'],\n",
       " '104558435': ['Bill_Gates', 'David_Brock', 'Goodreads'],\n",
       " '1045684898': ['Rend_Collective', 'Stephen_Amell', 'Unlock_Democracy'],\n",
       " '104569017': ['Peter_Facinelli', 'Jodi_Picoult', 'Littlewoods'],\n",
       " '104582982': ['Joe_Jonas', 'Paulina_Rubio', 'Adal_Ramones'],\n",
       " '104600554': ['Stana_Katic', 'Alison_Tyler', 'Armi_Millare'],\n",
       " '104608417': ['Polo_Polo', 'Chilango', 'Nature_Canada'],\n",
       " '104610806': ['Duvar', 'Juan_Pablo_Raba', 'Blan'],\n",
       " '104620962': ['Solange_Knowles', 'Russell_Simmons', 'Marlon_Wayans'],\n",
       " '1046610404': ['El_Universo', 'Dominic_Thiem', 'Jared_Turner'],\n",
       " '1046622463': ['Ellen_DeGeneres', 'Britney_Spears', 'Val_Kilmer'],\n",
       " '104662808': ['YouTube', 'T._A._Barron', 'Laurence_Golborne'],\n",
       " '1046874044': ['Andrew_McMahon', 'Bad_Suns', 'Jamba_Juice'],\n",
       " '1047023743': ['Kendall_Schmidt', 'James_Maslow', 'Logan_Henderson'],\n",
       " '104714436': ['Tyra_Banks', 'Barack_Obama', 'Gayle_King'],\n",
       " '1047280824': ['Nicki_Minaj', 'Rihanna', 'Dom_Irrera'],\n",
       " '1047769183': ['Vivian_Schiller', 'Steve_Wolfhard', 'One_Direction'],\n",
       " '1047796609': ['Tara_Lipinski', 'One_Direction', 'Sylvie_Meis'],\n",
       " '1047934177': ['Lanyrd', 'Jenna_Marbles', 'Slapshock'],\n",
       " '1047970694': ['Reading_Is_Fundamental', 'Zeki_Demirkubuz', 'Cem_Adrian'],\n",
       " '1048052941': ['Xabi_Alonso', 'Cristiano_Ronaldo', 'Real_Madrid_C.F.'],\n",
       " '1048132836': ['Ed_Sheeran', 'Babolat', 'Brit_Awards'],\n",
       " '1048145376': ['Hayley', 'Beauty_Gonzalez', 'Max_Blumenthal'],\n",
       " '1048163100': ['Nate_Lanxon', 'Mark_Zuckerberg', 'Shelly_Martinez'],\n",
       " '1048211288': ['Demi_Lovato', 'Taylor_Swift', 'Jeremy_Affeldt'],\n",
       " '104838778': ['Eugenio_Derbez', 'Gina_Yashere', 'Consuelo_Duval'],\n",
       " '1048593152': ['Katy_Perry', 'Bruno_Mars', 'G-Eazy'],\n",
       " '1048745910': ['Fearne_Cotton', 'Jo_Whiley', 'Carly_Craig'],\n",
       " '1049003036': ['Diamond_Dallas_Page', 'Christy_Nockels', 'Haluk_Levent'],\n",
       " '10491382': ['The_Economist', 'Rich_Barton', 'John_Battelle'],\n",
       " '104914914': ['Adam_Bouska', 'Astrophotography', 'Fully_Booked'],\n",
       " '104914917': ['Google', 'Entertainment_Weekly', 'Surabaya'],\n",
       " '1049162425': ['Mojang', 'Will_Schuester', 'Runtastic'],\n",
       " '104917165': ['La_Tercera', 'Denise_Rosenthal', 'Dragon_City'],\n",
       " '104925609': ['Nelly_Furtado', 'Paramore', 'Funny_or_Die'],\n",
       " '104933275': ['Eric_Dane', 'Adela_Micha', 'TwitPic'],\n",
       " '104954902': ['Adolfo_Aguilar', 'Japa', 'Louis_Tomlinson'],\n",
       " '10495702': ['Xabi_Alonso', 'Ricky_Rubio', 'Dilbert'],\n",
       " '1049623170': ['HubSpot', 'Alessandra_De_Rossi', 'Monique'],\n",
       " '104977607': ['The_Range', 'Tom_Felton', 'Warner_Bros.'],\n",
       " '105000559': ['Demi_Lovato', 'Justin_Timberlake', 'Barack_Obama'],\n",
       " '1050022700': ['Paul_Shaffer', 'CD_Alhaurino', 'Khairy_Jamaluddin'],\n",
       " '10500822': ['CartaCapital', 'Danny!', 'Roda_Viva'],\n",
       " '105008436': ['Juliana_Paes', 'Ray_Shah', 'Amrit_Singh'],\n",
       " '105011368': ['Candela_Vetrano', 'Catherine_Fulop', 'Nate_Ravitz'],\n",
       " '1050147318': ['Lex_Veldhuis', 'The_New_York_Times', 'Hooman_Majd'],\n",
       " '105034796': ['Coldplay', 'Carole_King', 'Ugo_Ehiogu'],\n",
       " '105099349': ['Maggie_Stiefvater', 'Russell_Brand', 'Jimmy_Carr'],\n",
       " '105106176': ['James_DeGale', 'Sarah_McLaughlin', 'Inhotim'],\n",
       " '1051108351': ['Willa_Holland', 'Mick_Foley', 'John_Cena'],\n",
       " '1051121473': ['Tatyana_Ali', 'Denise_Dresser', 'Margo_Glantz'],\n",
       " '1051145474': ['Hampton_Creek', 'Amanda_Tapping', 'Playboy'],\n",
       " '1051240908': ['Hope_Akpan', 'Annabel', 'American_Bankers_Association'],\n",
       " '105143827': ['William_Shatner', 'Jornal_Hoje', 'Carey_Hart'],\n",
       " '105150125': ['YouTube', 'The_Changcuters', 'Tony_Todd'],\n",
       " '105168385': ['Aziz_Ansari', 'Joy_Behar', 'The_Lonely_Island'],\n",
       " '105174268': ['Pink_(singer)', 'Blog_del_Narco', 'Tom_Bradby'],\n",
       " '1051819196': ['Steve_Carell', 'Ricky_Gervais', 'Matthew_Williamson'],\n",
       " '105194599': ['YouTube', 'Twitter', 'The_Vaccines'],\n",
       " '105198211': ['Shakira', 'David_Bisbal', 'FC_Barcelona'],\n",
       " '1051983049': ['The_Beatles', 'Last.fm', 'Justin_Bieber'],\n",
       " '1052012186': ['Taylor_Swift', 'One_Direction', 'Louie_Anderson'],\n",
       " '105204483': ['Lady_Gaga', 'Doumbia', 'Rosalyn_Gold-Onwude'],\n",
       " '105209472': [\"Patrice_O'Neal\", 'Willa_Holland', 'Calvin_Harris'],\n",
       " '105223642': ['Justin_Bieber', 'The_Beatles', 'Switchfoot'],\n",
       " '105256564': ['TwitPic', 'Adult_Swim', 'DJ_Pain_1'],\n",
       " '105257837': ['Grammarly', 'Noel_Sullivan', 'Logan_Henderson'],\n",
       " '105269963': ['Pablo', 'Key_103', 'Melbourne_Theatre_Company'],\n",
       " '105270868': ['Redd', 'Can_Bonomo', 'Julie_Kedzie'],\n",
       " '1052719579': ['One_Direction', 'Tareq_Salahi', 'Digital_Journal'],\n",
       " '1052881836': ['One_Direction', 'Cadw', 'Niall_Horan'],\n",
       " '1053015865': ['Justin_Timberlake', 'Demi_Lovato', 'Emma_Watson'],\n",
       " '105318640': ['Roger_Ebert', 'Naomi_Wolf', 'British_Council'],\n",
       " '105320169': ['Alan_Zweibel', 'Ethan_Suplee', 'TransMilenio'],\n",
       " '105330342': ['Shay_Mitchell', 'Pierre_Balmain', 'Twitcam'],\n",
       " '10533722': ['Olivia_Lee', 'Stonewall_Kitchen', 'Manuel_Ferrara'],\n",
       " '1053624582': ['Lindy_Booth', 'Instagram', 'Justin_Bieber'],\n",
       " '1053723427': ['Paramore', 'Cory_Monteith', 'Isabel_Marant'],\n",
       " '1053862592': ['Taylor_Swift', 'Demi_Lovato', 'Justin_Bieber'],\n",
       " '1053897104': ['Ray_William_Johnson', 'MLB_Network', 'Buster_Olney'],\n",
       " '1053947882': ['Rockstar_Games', 'PlayStation', 'The_Head_and_the_Heart'],\n",
       " '105406926': ['Urbandub', 'Carles_Puyol', 'Michael_Dean_Shelton'],\n",
       " '1054082509': ['Ellen_DeGeneres', 'One_Direction', 'Nick_Harkaway'],\n",
       " '105421570': ['Ryan_Blaney', 'Muy_Interesante', 'Blair_Waldorf'],\n",
       " '105422165': ['Penny_Mordaunt', 'Estria', 'Jay_Ajayi'],\n",
       " '105437124': ['Sat.1', 'Havas', 'Michael_Kessler'],\n",
       " '105457593': ['Coldplay', 'Eric_Schneiderman', 'Seth_Maness'],\n",
       " '105463512': ['Xabi_Alonso', 'Lucas_Leiva', 'John_W._Henry'],\n",
       " '1054797607': ['Ploughshares', 'Discover_Ireland', 'Fifty_Shades_Freed'],\n",
       " '105506114': ['Lady_Gaga', 'Shakira', 'Adam_Lambert'],\n",
       " '1055062825': ['Rihanna', 'Nicki_Minaj', 'Chanel'],\n",
       " '1055104291': ['El_Malpensante', 'Magento', 'Instituto_Cervantes'],\n",
       " '105519423': ['Tony_Beltran', 'Galilea_Montijo', 'Montserrat_Oliver'],\n",
       " '105520536': ['Mindy_Kaling', 'Kathy_Griffin', 'Will_Richardson'],\n",
       " '105529855': ['Shakira', 'Rihanna', 'Luis_Fonsi'],\n",
       " '105553307': ['Soleil_Moon_Frye', 'Darren_Criss', 'Max_Lugavere'],\n",
       " '105567943': ['Jim_Himes', 'Tony_Rock', 'Volaris'],\n",
       " '105569822': ['Emma_Watson', 'Kaya_Scodelario', 'Karl_Lagerfeld'],\n",
       " '105592288': ['Carla_Morrison', 'CNN', 'Jae-kyung'],\n",
       " '105645265': ['Miranda_Cosgrove', 'Ashley_Tisdale', 'Drake_Bell'],\n",
       " '1056513145': ['ABC_(newspaper)', 'Topshop', 'Crissy'],\n",
       " '1056631249': ['Felicia_Day', 'Dylan_Minnette', 'Veronica_Belmont'],\n",
       " '10569722': ['Tim_Pawlenty', 'John_Lavan', 'Peter_Somerville'],\n",
       " '1057112401': ['Rihanna', 'Nikki_Jean', 'Frank_Bruni'],\n",
       " '1057516135': ['Red_Hot_Chili_Peppers', 'The_Beatles', 'Susie_Cagle'],\n",
       " '1057613264': ['Mauricio_Pinilla', 'La_Tercera', 'Cam_Atkinson'],\n",
       " '1057662908': ['Steff', 'Shawn_Mendes', 'Phillip_Schofield'],\n",
       " '1057687470': ['Profound_Lore_Records', 'Tonyukuk', 'UEFA_Europa_League'],\n",
       " '1057995750': [\"Kelley_O'Hara\", 'Genome_Biology', 'Bob_Levy_(comedian)'],\n",
       " '1058041224': ['Kourtney_Kardashian', 'Rihanna', 'The_Weeknd'],\n",
       " '105812073': ['Zooey_Deschanel', 'Emma_Watson', 'Russell_Brand'],\n",
       " '105821710': ['Jason_Mraz', 'Andrew_Belle', 'Shaun_White'],\n",
       " '105841361': ['Britney_Spears', 'Janet_Jackson', 'Jim_Beaver'],\n",
       " '1058489468': ['One_Direction', 'Niall_Horan', 'Matt_Jarvis'],\n",
       " '105879098': ['Twitter', 'Charlie_Sheen', 'Face_book'],\n",
       " '1058995674': ['Katy_Perry', 'Ryan_Seacrest', 'Tom_Llamas'],\n",
       " '1059054384': ['BBC_Surrey', 'Cosculluela', 'BBC_Radio_Devon'],\n",
       " '1059078516': ['Dark_Regions_Press', 'Michael_Bauman', 'Louis_Tomlinson'],\n",
       " '1059093152': ['Tupac_Shakur', 'Joana', 'Samira'],\n",
       " '105929149': ['Rafinha_Bastos', 'Connor_Jessup', 'New_York_Jets'],\n",
       " '1059669246': ['Ellie_Krieger', 'Katya_Zamolodchikova', 'Zendaya'],\n",
       " '106004012': ['Clive_Davis', 'Ximena_Navarrete', 'TwitPic'],\n",
       " '1060503840': ['Taylor_Swift', 'Jonah_Hill', 'Jerry_Brown'],\n",
       " '1060578600': ['Demi_Lovato', 'Simon_Cowell', 'Niall_Horan'],\n",
       " '106065829': ['Miley_Cyrus', 'Cock_Sparrer', 'Joseph_Gordon-Levitt'],\n",
       " '106067609': ['Lady_Gaga', 'Scott_Weinger', 'Olive_flounder'],\n",
       " '106087152': ['Britney_Spears', 'Coldplay', 'CNN_Chile'],\n",
       " '10610262': ['Mother_Earth_News', 'Iron_Maiden', 'Fantasy_Flight_Games'],\n",
       " '1061097006': ['Brendon_Urie', 'Taissa_Farmiga', 'Pascal_Wehrlein'],\n",
       " '106110069': ['Superinteressante', 'Kasper_Schmeichel', 'Dilma_Rousseff'],\n",
       " '1061120815': ['Zack_Snyder', 'Smosh', 'Logan_Leistikow'],\n",
       " '106119275': ['Manhattan_Connection', 'Paul_McCarthy', 'Fernando_Alonso'],\n",
       " '106136665': ['Zaytung', 'David_Flatman', 'Monica_Lewinsky'],\n",
       " '1061542225': ['One_Direction', 'Harry_McGee', 'Copper_Canyon_Press'],\n",
       " '106162987': ['Taylor_Swift', 'Kylie_Jenner', 'Channing_Tatum']}"
      ]
     },
     "execution_count": 29,
     "metadata": {},
     "output_type": "execute_result"
    }
   ],
   "source": [
    "top3Recommendations"
   ]
  },
  {
   "cell_type": "code",
   "execution_count": null,
   "metadata": {},
   "outputs": [],
   "source": []
  }
 ],
 "metadata": {
  "kernelspec": {
   "display_name": "Python 3",
   "language": "python",
   "name": "python3"
  },
  "language_info": {
   "codemirror_mode": {
    "name": "ipython",
    "version": 3
   },
   "file_extension": ".py",
   "mimetype": "text/x-python",
   "name": "python",
   "nbconvert_exporter": "python",
   "pygments_lexer": "ipython3",
   "version": "3.6.2"
  }
 },
 "nbformat": 4,
 "nbformat_minor": 2
}
